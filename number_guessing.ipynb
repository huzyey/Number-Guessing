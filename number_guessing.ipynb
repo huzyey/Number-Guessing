{
  "nbformat": 4,
  "nbformat_minor": 0,
  "metadata": {
    "colab": {
      "provenance": []
    },
    "kernelspec": {
      "name": "python3",
      "display_name": "Python 3"
    },
    "language_info": {
      "name": "python"
    }
  },
  "cells": [
    {
      "cell_type": "code",
      "execution_count": null,
      "metadata": {
        "id": "OJp2Oxj6cGvn"
      },
      "outputs": [],
      "source": [
        "import random\n",
        "\n",
        "# rastgele bir sayı seçme\n",
        "target_num = random.randint(1, 100)\n",
        "\n",
        "# oyuncunun 3 yanlış tahmini var\n",
        "num_tries = 3\n",
        "\n",
        "# oyuncudan sayı tahmin etmesini isteme\n",
        "while num_tries > 0:\n",
        "    guess = int(input(\"1 ile 100 arasında bir sayı tahmin edin: \"))\n",
        "\n",
        "    # doğru tahmin kontrolü\n",
        "    if guess == target_num:\n",
        "        print(\"Tebrikler, doğru tahmin ettiniz!\")\n",
        "        break\n",
        "    \n",
        "    # tahmini kontrol edip ipucu verme\n",
        "    if guess < target_num:\n",
        "        print(\"Daha yüksek bir sayı tahmin edin.\")\n",
        "    else:\n",
        "        print(\"Daha düşük bir sayı tahmin edin.\")\n",
        "    \n",
        "    # yanlış tahmin hakkının bir azaltılması\n",
        "    num_tries -= 1\n",
        "    \n",
        "    # tahmin hakkı kalmadığında oyunun sonlanması\n",
        "    if num_tries == 0:\n",
        "        print(\"Oyunu kaybettiniz. Doğru cevap: \", target_num)\n",
        "        break"
      ]
    }
  ]
}